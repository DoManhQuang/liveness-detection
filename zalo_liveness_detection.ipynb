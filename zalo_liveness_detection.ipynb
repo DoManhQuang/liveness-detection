{
  "cells": [
    {
      "cell_type": "code",
      "execution_count": null,
      "metadata": {
        "colab": {
          "base_uri": "https://localhost:8080/"
        },
        "id": "R73tOobR98Hr",
        "outputId": "ddd9c28f-d4fa-4fd9-b34c-4f59d2ed1289"
      },
      "outputs": [
        {
          "name": "stdout",
          "output_type": "stream",
          "text": [
            "Mounted at /content/drive\n"
          ]
        }
      ],
      "source": [
        "from google.colab import drive\n",
        "drive.mount('/content/drive')"
      ]
    },
    {
      "cell_type": "code",
      "execution_count": null,
      "metadata": {
        "colab": {
          "base_uri": "https://localhost:8080/"
        },
        "id": "L-u3Gki--HnP",
        "outputId": "584fd5a0-64ae-4092-8d20-07bbadc9f21d"
      },
      "outputs": [
        {
          "name": "stdout",
          "output_type": "stream",
          "text": [
            "/content/drive/MyDrive/manhquang/zalo\n",
            "Cloning into 'liveness-detection'...\n",
            "remote: Enumerating objects: 445, done.\u001b[K\n",
            "remote: Counting objects: 100% (203/203), done.\u001b[K\n",
            "remote: Compressing objects: 100% (155/155), done.\u001b[K\n",
            "remote: Total 445 (delta 99), reused 101 (delta 41), pack-reused 242\u001b[K\n",
            "Receiving objects: 100% (445/445), 45.44 MiB | 10.47 MiB/s, done.\n",
            "Resolving deltas: 100% (250/250), done.\n"
          ]
        }
      ],
      "source": [
        "%cd /content/drive/MyDrive/manhquang/zalo\n",
        "%rm -rf liveness-detection\n",
        "!git clone https://github.com/DoManhQuang/liveness-detection.git"
      ]
    },
    {
      "cell_type": "code",
      "execution_count": null,
      "metadata": {
        "colab": {
          "base_uri": "https://localhost:8080/"
        },
        "id": "-EhHyIH0_0dh",
        "outputId": "1f4ce1f8-c1f2-4d18-d595-e662910dc978"
      },
      "outputs": [
        {
          "name": "stdout",
          "output_type": "stream",
          "text": [
            "/content/drive/MyDrive/manhquang/zalo/liveness-detection\n",
            "Looking in indexes: https://pypi.org/simple, https://us-python.pkg.dev/colab-wheels/public/simple/\n",
            "Requirement already satisfied: absl-py==1.3.0 in /usr/local/lib/python3.7/dist-packages (from -r requirement.txt (line 1)) (1.3.0)\n",
            "Requirement already satisfied: astunparse==1.6.3 in /usr/local/lib/python3.7/dist-packages (from -r requirement.txt (line 2)) (1.6.3)\n",
            "Requirement already satisfied: cachetools==5.2.0 in /usr/local/lib/python3.7/dist-packages (from -r requirement.txt (line 3)) (5.2.0)\n",
            "Requirement already satisfied: certifi==2022.9.24 in /usr/local/lib/python3.7/dist-packages (from -r requirement.txt (line 4)) (2022.9.24)\n",
            "Requirement already satisfied: charset-normalizer==2.1.1 in /usr/local/lib/python3.7/dist-packages (from -r requirement.txt (line 5)) (2.1.1)\n",
            "Collecting colorama==0.4.6\n",
            "  Downloading colorama-0.4.6-py2.py3-none-any.whl (25 kB)\n",
            "Collecting contourpy==1.0.6\n",
            "  Downloading contourpy-1.0.6-cp37-cp37m-manylinux_2_17_x86_64.manylinux2014_x86_64.whl (292 kB)\n",
            "\u001b[K     |████████████████████████████████| 292 kB 7.1 MB/s \n",
            "\u001b[?25hRequirement already satisfied: cycler==0.11.0 in /usr/local/lib/python3.7/dist-packages (from -r requirement.txt (line 8)) (0.11.0)\n",
            "Collecting flatbuffers==22.10.26\n",
            "  Downloading flatbuffers-22.10.26-py2.py3-none-any.whl (26 kB)\n",
            "Collecting fonttools==4.38.0\n",
            "  Downloading fonttools-4.38.0-py3-none-any.whl (965 kB)\n",
            "\u001b[K     |████████████████████████████████| 965 kB 50.3 MB/s \n",
            "\u001b[?25hRequirement already satisfied: gast==0.4.0 in /usr/local/lib/python3.7/dist-packages (from -r requirement.txt (line 11)) (0.4.0)\n",
            "Collecting google-auth==2.14.0\n",
            "  Downloading google_auth-2.14.0-py2.py3-none-any.whl (175 kB)\n",
            "\u001b[K     |████████████████████████████████| 175 kB 46.1 MB/s \n",
            "\u001b[?25hRequirement already satisfied: google-auth-oauthlib==0.4.6 in /usr/local/lib/python3.7/dist-packages (from -r requirement.txt (line 13)) (0.4.6)\n",
            "Requirement already satisfied: google-pasta==0.2.0 in /usr/local/lib/python3.7/dist-packages (from -r requirement.txt (line 14)) (0.2.0)\n",
            "Requirement already satisfied: grpcio==1.50.0 in /usr/local/lib/python3.7/dist-packages (from -r requirement.txt (line 15)) (1.50.0)\n",
            "Collecting h5py==3.7.0\n",
            "  Downloading h5py-3.7.0-cp37-cp37m-manylinux_2_12_x86_64.manylinux2010_x86_64.whl (4.1 MB)\n",
            "\u001b[K     |████████████████████████████████| 4.1 MB 39.6 MB/s \n",
            "\u001b[?25hCollecting idna==3.4\n",
            "  Downloading idna-3.4-py3-none-any.whl (61 kB)\n",
            "\u001b[K     |████████████████████████████████| 61 kB 88 kB/s \n",
            "\u001b[?25hRequirement already satisfied: joblib==1.2.0 in /usr/local/lib/python3.7/dist-packages (from -r requirement.txt (line 18)) (1.2.0)\n",
            "Collecting keras==2.10.0\n",
            "  Downloading keras-2.10.0-py2.py3-none-any.whl (1.7 MB)\n",
            "\u001b[K     |████████████████████████████████| 1.7 MB 60.1 MB/s \n",
            "\u001b[?25hRequirement already satisfied: Keras-Preprocessing==1.1.2 in /usr/local/lib/python3.7/dist-packages (from -r requirement.txt (line 20)) (1.1.2)\n",
            "Requirement already satisfied: kiwisolver==1.4.4 in /usr/local/lib/python3.7/dist-packages (from -r requirement.txt (line 21)) (1.4.4)\n",
            "Requirement already satisfied: libclang==14.0.6 in /usr/local/lib/python3.7/dist-packages (from -r requirement.txt (line 22)) (14.0.6)\n",
            "Requirement already satisfied: Markdown==3.4.1 in /usr/local/lib/python3.7/dist-packages (from -r requirement.txt (line 23)) (3.4.1)\n",
            "Collecting MarkupSafe==2.1.1\n",
            "  Downloading MarkupSafe-2.1.1-cp37-cp37m-manylinux_2_17_x86_64.manylinux2014_x86_64.whl (25 kB)\n",
            "\u001b[31mERROR: Could not find a version that satisfies the requirement matplotlib==3.6.2 (from versions: 0.86, 0.86.1, 0.86.2, 0.91.0, 0.91.1, 1.0.1, 1.1.0, 1.1.1, 1.2.0, 1.2.1, 1.3.0, 1.3.1, 1.4.0, 1.4.1rc1, 1.4.1, 1.4.2, 1.4.3, 1.5.0, 1.5.1, 1.5.2, 1.5.3, 2.0.0b1, 2.0.0b2, 2.0.0b3, 2.0.0b4, 2.0.0rc1, 2.0.0rc2, 2.0.0, 2.0.1, 2.0.2, 2.1.0rc1, 2.1.0, 2.1.1, 2.1.2, 2.2.0rc1, 2.2.0, 2.2.2, 2.2.3, 2.2.4, 2.2.5, 3.0.0rc2, 3.0.0, 3.0.1, 3.0.2, 3.0.3, 3.1.0rc1, 3.1.0rc2, 3.1.0, 3.1.1, 3.1.2, 3.1.3, 3.2.0rc1, 3.2.0rc3, 3.2.0, 3.2.1, 3.2.2, 3.3.0rc1, 3.3.0, 3.3.1, 3.3.2, 3.3.3, 3.3.4, 3.4.0rc1, 3.4.0rc2, 3.4.0rc3, 3.4.0, 3.4.1, 3.4.2, 3.4.3, 3.5.0b1, 3.5.0rc1, 3.5.0, 3.5.1, 3.5.2, 3.5.3)\u001b[0m\n",
            "\u001b[31mERROR: No matching distribution found for matplotlib==3.6.2\u001b[0m\n",
            "Looking in indexes: https://pypi.org/simple, https://us-python.pkg.dev/colab-wheels/public/simple/\n",
            "Collecting tensorflow_addons\n",
            "  Downloading tensorflow_addons-0.18.0-cp37-cp37m-manylinux_2_17_x86_64.manylinux2014_x86_64.whl (1.1 MB)\n",
            "\u001b[K     |████████████████████████████████| 1.1 MB 5.3 MB/s \n",
            "\u001b[?25hRequirement already satisfied: packaging in /usr/local/lib/python3.7/dist-packages (from tensorflow_addons) (21.3)\n",
            "Requirement already satisfied: typeguard>=2.7 in /usr/local/lib/python3.7/dist-packages (from tensorflow_addons) (2.7.1)\n",
            "Requirement already satisfied: pyparsing!=3.0.5,>=2.0.2 in /usr/local/lib/python3.7/dist-packages (from packaging->tensorflow_addons) (3.0.9)\n",
            "Installing collected packages: tensorflow-addons\n",
            "Successfully installed tensorflow-addons-0.18.0\n"
          ]
        }
      ],
      "source": [
        "%cd /content/drive/MyDrive/manhquang/zalo/liveness-detection\n",
        "!pip install -r requirement.txt\n",
        "!pip install tensorflow_addons"
      ]
    },
    {
      "cell_type": "code",
      "execution_count": null,
      "metadata": {
        "id": "6vJatcWXwMZA"
      },
      "outputs": [],
      "source": [
        "%cd /content/drive/MyDrive/manhquang/zalo/liveness-detection\n",
        "!python tools/ex-frame.py \\\n",
        "--path_root \"/content/drive/MyDrive/manhquang/zalo/dataset/public\" \\\n",
        "--folder_ex_frame \"frame-video-v3\""
      ]
    },
    {
      "cell_type": "code",
      "execution_count": null,
      "metadata": {
        "id": "ZFTXl6st_eYB"
      },
      "outputs": [],
      "source": [
        "%cd /content/drive/MyDrive/manhquang/zalo/liveness-detection\n",
        "!python tools/data.py \\\n",
        "--save \"/content/drive/MyDrive/manhquang/zalo/dataset/train\" \\\n",
        "--path_labels \"/content/drive/MyDrive/manhquang/zalo/dataset/train/label.csv\" \\\n",
        "--path_data \"/content/drive/MyDrive/manhquang/zalo/dataset/train/frame-video-v3\" \\\n",
        "--height 300 --width 100 --img_count 5 \\\n",
        "--name \"data-5x300x100x3-0.1-V3.0\" \\\n",
        "--mode_color \"rgb\" \\\n",
        "--test_size 0.1"
      ]
    },
    {
      "cell_type": "code",
      "execution_count": null,
      "metadata": {
        "id": "2kULOZAtWIHb"
      },
      "outputs": [],
      "source": [
        "%cd /content/drive/MyDrive/manhquang/zalo/liveness-detection\n",
        "!python tools/dict-data-test.py \\\n",
        "--save \"/content/drive/MyDrive/manhquang/zalo/dataset/public_test_2\" \\\n",
        "--path_data \"/content/drive/MyDrive/manhquang/zalo/dataset/public_test_2/frame-video-v3\" \\\n",
        "--height 300 --width 100 --img_count 5 \\\n",
        "--name \"pt_2-5x300x100x3-F-V3.0\" \\\n",
        "--mode_color \"rgb\""
      ]
    },
    {
      "cell_type": "code",
      "execution_count": null,
      "metadata": {
        "colab": {
          "background_save": true,
          "base_uri": "https://localhost:8080/"
        },
        "id": "2Oj77nF6-Oie",
        "outputId": "c8c9d497-5e38-4c88-c560-968a73653e45"
      },
      "outputs": [
        {
          "name": "stdout",
          "output_type": "stream",
          "text": [
            "/content/drive/MyDrive/manhquang/zalo/liveness-detection\n",
            "=========Start=========\n",
            "=====loading dataset ...======\n",
            "tcmalloc: large alloc 1891803136 bytes == 0x87d4000 @  0x7f06735641e7 0x4b2590 0x5ad01c 0x5e46ad 0x58f90f 0x59172f 0x591ac9 0x4fc06a 0x4fc808 0x4fe70d 0x5f0318 0x58f62c 0x5105e2 0x58fd37 0x50c4fc 0x5b4ee6 0x6005a3 0x607796 0x60785c 0x60a436 0x64db82 0x64dd2e 0x7f0673161c87 0x5b636a\n",
            "tcmalloc: large alloc 1891803136 bytes == 0x793fe000 @  0x7f06735641e7 0x4b2590 0x5ad01c 0x4fc81a 0x4fe70d 0x5f0318 0x58f62c 0x5105e2 0x58fd37 0x50c4fc 0x5b4ee6 0x6005a3 0x607796 0x60785c 0x60a436 0x64db82 0x64dd2e 0x7f0673161c87 0x5b636a\n",
            "TRAIN :  (5255, 300, 100, 3)  -  (5255,)\n",
            "TEST :  (585, 300, 100, 3)  -  (585,)\n",
            "=======loading dataset done!!=======\n",
            "2022-11-28 08:27:29.129934: E tensorflow/stream_executor/cuda/cuda_driver.cc:271] failed call to cuInit: CUDA_ERROR_NO_DEVICE: no CUDA-capable device is detected\n",
            "Model: \"model\"\n",
            "__________________________________________________________________________________________________\n",
            " Layer (type)                   Output Shape         Param #     Connected to                     \n",
            "==================================================================================================\n",
            " input_1 (InputLayer)           [(None, 300, 100, 3  0           []                               \n",
            "                                )]                                                                \n",
            "                                                                                                  \n",
            " conv2d (Conv2D)                (None, 300, 100, 25  37888       ['input_1[0][0]']                \n",
            "                                6)                                                                \n",
            "                                                                                                  \n",
            " conv2d_1 (Conv2D)              (None, 300, 100, 25  65792       ['conv2d[0][0]']                 \n",
            "                                6)                                                                \n",
            "                                                                                                  \n",
            " max_pooling2d (MaxPooling2D)   (None, 150, 50, 256  0           ['conv2d_1[0][0]']               \n",
            "                                )                                                                 \n",
            "                                                                                                  \n",
            " conv2d_2 (Conv2D)              (None, 150, 50, 128  295040      ['max_pooling2d[0][0]']          \n",
            "                                )                                                                 \n",
            "                                                                                                  \n",
            " Block_Stem (Conv2D)            (None, 150, 50, 128  16512       ['conv2d_2[0][0]']               \n",
            "                                )                                                                 \n",
            "                                                                                                  \n",
            " AveragePooling2D_1 (AveragePoo  (None, 75, 25, 128)  0          ['Block_Stem[0][0]']             \n",
            " ling2D)                                                                                          \n",
            "                                                                                                  \n",
            " conv2d_3 (Conv2D)              (None, 38, 13, 32)   102432      ['AveragePooling2D_1[0][0]']     \n",
            "                                                                                                  \n",
            " conv2d_4 (Conv2D)              (None, 38, 13, 32)   1056        ['conv2d_3[0][0]']               \n",
            "                                                                                                  \n",
            " average_pooling2d (AveragePool  (None, 38, 13, 128)  0          ['AveragePooling2D_1[0][0]']     \n",
            " ing2D)                                                                                           \n",
            "                                                                                                  \n",
            " conv2d_5 (Conv2D)              (None, 38, 13, 16)   528         ['conv2d_4[0][0]']               \n",
            "                                                                                                  \n",
            " conv2d_6 (Conv2D)              (None, 38, 13, 32)   4128        ['average_pooling2d[0][0]']      \n",
            "                                                                                                  \n",
            " batch_normalization (BatchNorm  (None, 38, 13, 16)  64          ['conv2d_5[0][0]']               \n",
            " alization)                                                                                       \n",
            "                                                                                                  \n",
            " conv2d_7 (Conv2D)              (None, 38, 13, 16)   528         ['conv2d_6[0][0]']               \n",
            "                                                                                                  \n",
            " average_pooling2d_1 (AveragePo  (None, 38, 13, 128)  0          ['AveragePooling2D_1[0][0]']     \n",
            " oling2D)                                                                                         \n",
            "                                                                                                  \n",
            " Block_Conv_B_1 (Concatenate)   (None, 38, 13, 160)  0           ['batch_normalization[0][0]',    \n",
            "                                                                  'conv2d_7[0][0]',               \n",
            "                                                                  'average_pooling2d_1[0][0]']    \n",
            "                                                                                                  \n",
            " conv2d_8 (Conv2D)              (None, 38, 13, 8)    32008       ['Block_Conv_B_1[0][0]']         \n",
            "                                                                                                  \n",
            " conv2d_9 (Conv2D)              (None, 38, 13, 8)    72          ['conv2d_8[0][0]']               \n",
            "                                                                                                  \n",
            " conv2d_10 (Conv2D)             (None, 38, 13, 4)    36          ['conv2d_9[0][0]']               \n",
            "                                                                                                  \n",
            " conv2d_11 (Conv2D)             (None, 38, 13, 8)    11528       ['Block_Conv_B_1[0][0]']         \n",
            "                                                                                                  \n",
            " batch_normalization_1 (BatchNo  (None, 38, 13, 4)   16          ['conv2d_10[0][0]']              \n",
            " rmalization)                                                                                     \n",
            "                                                                                                  \n",
            " conv2d_12 (Conv2D)             (None, 38, 13, 4)    36          ['conv2d_11[0][0]']              \n",
            "                                                                                                  \n",
            " Block_Identity_B_1 (Concatenat  (None, 38, 13, 168)  0          ['batch_normalization_1[0][0]',  \n",
            " e)                                                               'conv2d_12[0][0]',              \n",
            "                                                                  'Block_Conv_B_1[0][0]']         \n",
            "                                                                                                  \n",
            " global_average_pooling2d (Glob  (None, 168)         0           ['Block_Identity_B_1[0][0]']     \n",
            " alAveragePooling2D)                                                                              \n",
            "                                                                                                  \n",
            " dropout (Dropout)              (None, 168)          0           ['global_average_pooling2d[0][0]'\n",
            "                                                                 ]                                \n",
            "                                                                                                  \n",
            " dense (Dense)                  (None, 1)            169         ['dropout[0][0]']                \n",
            "                                                                                                  \n",
            "==================================================================================================\n",
            "Total params: 567,833\n",
            "Trainable params: 567,793\n",
            "Non-trainable params: 40\n",
            "__________________________________________________________________________________________________\n",
            "model loading done!!\n",
            "Callbacks List:  [<keras.callbacks.EarlyStopping object at 0x7f05e992f7d0>, <keras.callbacks.TensorBoard object at 0x7f060daef110>]\n",
            "Save List:  ['../runs/training/model-g-data-5x300x100x3-0.1-v3.0/v-train-3.1/tensorboard-logs']\n",
            "===========Training==============\n",
            "tcmalloc: large alloc 1891803136 bytes == 0xea042000 @  0x7f06735641e7 0x7f063d4be0ce 0x7f063d518726 0x7f063d50b475 0x7f063d5bb6ec 0x58f62c 0x510bf2 0x5b4ee6 0x4bad99 0x7f063d4ff944 0x58f67f 0x50ff13 0x5b4ee6 0x58ff2e 0x510325 0x5b4ee6 0x58ff2e 0x50ca37 0x5b4ee6 0x6005a3 0x607796 0x60785c 0x60a436 0x64db82 0x64dd2e 0x7f0673161c87 0x5b636a\n",
            "Epoch 1/100\n",
            "2022-11-28 08:27:36.930048: W tensorflow/core/framework/cpu_allocator_impl.cc:82] Allocation of 491520000 exceeds 10% of free system memory.\n",
            "2022-11-28 08:27:37.665339: W tensorflow/core/framework/cpu_allocator_impl.cc:82] Allocation of 491520000 exceeds 10% of free system memory.\n",
            "2022-11-28 08:27:38.576345: W tensorflow/core/framework/cpu_allocator_impl.cc:82] Allocation of 122880000 exceeds 10% of free system memory.\n",
            "2022-11-28 08:27:40.548864: W tensorflow/core/framework/cpu_allocator_impl.cc:82] Allocation of 122880000 exceeds 10% of free system memory.\n",
            "2022-11-28 08:27:40.548992: W tensorflow/core/framework/cpu_allocator_impl.cc:82] Allocation of 69120000 exceeds 10% of free system memory.\n",
            "329/329 [==============================] - 3607s 11s/step - loss: 0.6136 - equal_error_rate: 0.2698 - binary_accuracy: 0.7104 - val_loss: 1.7170 - val_equal_error_rate: 0.1719 - val_binary_accuracy: 0.4889\n",
            "Epoch 2/100\n",
            "329/329 [==============================] - 3609s 11s/step - loss: 0.4819 - equal_error_rate: 0.2011 - binary_accuracy: 0.7802 - val_loss: 1.0708 - val_equal_error_rate: 0.1856 - val_binary_accuracy: 0.6000\n",
            "Epoch 3/100\n",
            "329/329 [==============================] - 3607s 11s/step - loss: 0.4520 - equal_error_rate: 0.1931 - binary_accuracy: 0.7928 - val_loss: 0.5016 - val_equal_error_rate: 0.1556 - val_binary_accuracy: 0.7949\n",
            "Epoch 4/100\n",
            "329/329 [==============================] - 3611s 11s/step - loss: 0.4276 - equal_error_rate: 0.1767 - binary_accuracy: 0.8093 - val_loss: 0.3861 - val_equal_error_rate: 0.1205 - val_binary_accuracy: 0.8034\n",
            "Epoch 5/100\n",
            "329/329 [==============================] - 3622s 11s/step - loss: 0.4170 - equal_error_rate: 0.1774 - binary_accuracy: 0.8166 - val_loss: 0.5946 - val_equal_error_rate: 0.1183 - val_binary_accuracy: 0.7179\n",
            "Epoch 6/100\n",
            "326/329 [============================>.] - ETA: 31s - loss: 0.3987 - equal_error_rate: 0.1600 - binary_accuracy: 0.8254"
          ]
        }
      ],
      "source": [
        "%cd /content/drive/MyDrive/manhquang/zalo/liveness-detection\n",
        "!python tools/train.py -v \"v-train-3.1\" \\\n",
        "-train \"/content/drive/MyDrive/manhquang/zalo/dataset/train/data-5x300x100x3-0.1-V3.0-train.data\" \\\n",
        "-test \"/content/drive/MyDrive/manhquang/zalo/dataset/train/data-5x300x100x3-0.1-V3.0-test.data\" \\\n",
        "-name \"model-g-data-5x300x100x3-0.1-v3.0\" -ep 100 -bsize 16 -verbose 1 --mode_model \"model-g\" \\\n",
        "-resume \"next\" \\\n",
        "-model_path \"/content/drive/MyDrive/manhquang/zalo/runs/training/model-model-300x100x3-5-v3-v-0.3.h5\""
      ]
    },
    {
      "cell_type": "code",
      "execution_count": null,
      "metadata": {
        "id": "t8SnRqJX-MdG"
      },
      "outputs": [],
      "source": [
        "%cd /content/drive/MyDrive/manhquang/zalo/liveness-detection\n",
        "!python tools/kfold.py \\\n",
        "-train \"/content/drive/MyDrive/manhquang/zalo/dataset/data-5x300x100x3-v6-train.data\" \\\n",
        "-test \"/content/drive/MyDrive/manhquang/zalo/dataset/data-5x300x100x3-v6-test.data\" \\\n",
        "-name \"kfold-model-g-5x300x100x3-v6\" \\\n",
        "--k_fold_path \"/content/drive/MyDrive/manhquang/zalo/runs/k-fold\" \\\n",
        "--result_path \"/content/drive/MyDrive/manhquang/zalo/runs/results\" \\\n",
        "--mode_model \"model-g\" \\\n",
        "-ep 100 -bsize 16 -verbose 1 -v \"v6.1\" -ck 1 -nk 10 \\\n",
        "--mode_split_data True"
      ]
    },
    {
      "cell_type": "code",
      "execution_count": null,
      "metadata": {
        "id": "opWhxl2fRG3O"
      },
      "outputs": [],
      "source": [
        "%cd /content/drive/MyDrive/manhquang/zalo/liveness-detection\n",
        "!python tools/vaild.py \\\n",
        "--name \"model-g\" \\\n",
        "--model_path \"/content/drive/MyDrive/manhquang/zalo/runs/training/model-g/v6.1/model-save/model-model-g-v6.1.h5\" \\\n",
        "--path_data \"/content/drive/MyDrive/manhquang/zalo/dataset/data-5x300x100x3-v6-test.data\" \\\n",
        "-v \"v-6.0\" \\\n",
        "--save_result \"/content/drive/MyDrive/manhquang/zalo/runs\" \\\n",
        "--mode_model \"fas-v1\" --mode_weight \"model-save\" --custom_objects True"
      ]
    },
    {
      "cell_type": "code",
      "execution_count": null,
      "metadata": {
        "id": "rTOgNuCBZ1oA"
      },
      "outputs": [],
      "source": [
        "%cd /content/drive/MyDrive/manhquang/zalo/liveness-detection\n",
        "!python tools/predict.py --name \"fas-v1\" \\\n",
        "--model_path \"/content/drive/MyDrive/manhquang/zalo/runs/training/model-fas-v3.0/v-train-3.1/model-save/model-model-fas-v3.0-v-train-3.1.h5\" \\\n",
        "--best_ckpt_path \"/content/drive/MyDrive/manhquang/zalo/runs/training/model-fas-v3.0/v-train-3.1/checkpt/best-weights-training-file-model-fas-v3.0-v-train-3.1.h5\" \\\n",
        "--path_data \"/content/drive/MyDrive/manhquang/zalo/dataset/public_test_2/pt_2-5x300x100x3-F-V3.0-public-test.data\" \\\n",
        "-v \"v-f-V3.0-ckpt\" \\\n",
        "--save_result \"/content/drive/MyDrive/manhquang/zalo/runs\" \\\n",
        "--mode_model \"fas-v1\" --mode_weight \"check-point\""
      ]
    },
    {
      "cell_type": "code",
      "execution_count": null,
      "metadata": {
        "id": "tk8D15pr_211"
      },
      "outputs": [],
      "source": [
        "from keras.models import load_model\n",
        "from keras.utils import plot_model\n",
        "import tensorflow_addons as tfa\n",
        "model = load_model(\"/content/drive/MyDrive/manhquang/zalo/runs/training/model-model-300x100x3-5-v3-v-0.3.h5\")\n",
        "model.summary()"
      ]
    },
    {
      "cell_type": "code",
      "execution_count": null,
      "metadata": {
        "id": "8FrO6bFXAeqZ"
      },
      "outputs": [],
      "source": [
        "plot_model(model,\n",
        "    show_shapes=True,\n",
        "    show_layer_names=True,\n",
        "    expand_nested=True,\n",
        "    dpi=96,\n",
        "    show_layer_activations=True)"
      ]
    }
  ],
  "metadata": {
    "accelerator": "GPU",
    "colab": {
      "provenance": []
    },
    "gpuClass": "standard",
    "kernelspec": {
      "display_name": "Python 3",
      "name": "python3"
    },
    "language_info": {
      "name": "python"
    }
  },
  "nbformat": 4,
  "nbformat_minor": 0
}